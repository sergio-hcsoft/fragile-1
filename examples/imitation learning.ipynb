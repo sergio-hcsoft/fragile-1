{
 "cells": [
  {
   "cell_type": "code",
   "execution_count": 3,
   "metadata": {},
   "outputs": [],
   "source": [
    "import cv2\n",
    "import gym\n",
    "from plangym.wrappers import FireResetEnv, FrameStack, MaxAndSkipEnv, NoopResetEnv\n",
    "\n",
    "class ProcessFrame84(gym.ObservationWrapper):\n",
    "    def __init__(self, env=None):\n",
    "        super(ProcessFrame84, self).__init__(env)\n",
    "        self.observation_space = spaces.Box(low=0, high=255, shape=(84, 84, 1))\n",
    "\n",
    "    def observation(self, obs):\n",
    "        return ProcessFrame84.process(obs)\n",
    "\n",
    "    @staticmethod\n",
    "    def process(frame):\n",
    "        if frame.size == 210 * 160 * 3:\n",
    "            img = np.reshape(frame, [210, 160, 3]).astype(np.float32)\n",
    "        elif frame.size == 250 * 160 * 3:\n",
    "            img = np.reshape(frame, [250, 160, 3]).astype(np.float32)\n",
    "        else:\n",
    "            assert False, \"Unknown resolution.\"\n",
    "        img = img[:, :, 0] * 0.299 + img[:, :, 1] * 0.587 + img[:, :, 2] * 0.114\n",
    "        resized_screen = cv2.resize(img, (84, 110), interpolation=cv2.INTER_AREA)\n",
    "        x_t = resized_screen[18:102, :]\n",
    "        x_t = np.reshape(x_t, [84, 84, 1])\n",
    "        return x_t.astype(np.uint8)\n",
    "\n",
    "def wrap(env):\n",
    "    env = NoopResetEnv(env, noop_max=30)\n",
    "    if 'FIRE' in env.unwrapped.get_action_meanings():\n",
    "        env = FireResetEnv(env)\n",
    "    env = ProcessFrame84(env)\n",
    "    env = MaxAndSkipEnv(env, skip=4)\n",
    "    env = FrameStack(env, 4)\n",
    "    return env"
   ]
  },
  {
   "cell_type": "code",
   "execution_count": 4,
   "metadata": {},
   "outputs": [],
   "source": [
    "import numpy as np\n",
    "from collections import deque\n",
    "import gym\n",
    "from gym import spaces\n",
    "import cv2\n",
    "\n",
    "from gym import logger as gymlogger\n",
    "from gym.wrappers import Monitor\n",
    "gymlogger.set_level(40) #error only\n",
    "\n",
    "import random\n",
    "import matplotlib\n",
    "import matplotlib.pyplot as plt\n",
    "%matplotlib inline\n",
    "import math\n",
    "import glob\n",
    "import io\n",
    "import base64\n",
    "from IPython.display import HTML\n",
    "\n",
    "from IPython import display as ipythondisplay\n",
    "\n",
    "from pyvirtualdisplay import Display\n",
    "display = Display(visible=0, size=(1400, 900))\n",
    "display.start()\n",
    "\n",
    "\n",
    "def show_video():\n",
    "  mp4list = glob.glob('video/*.mp4')\n",
    "  if len(mp4list) > 0:\n",
    "    mp4 = mp4list[0]\n",
    "    video = io.open(mp4, 'r+b').read()\n",
    "    encoded = base64.b64encode(video)\n",
    "    ipythondisplay.display(HTML(data='''<video alt=\"test\" autoplay \n",
    "                loop controls style=\"height: 400px;\">\n",
    "                <source src=\"data:video/mp4;base64,{0}\" type=\"video/mp4\" />\n",
    "             </video>'''.format(encoded.decode('ascii'))))\n",
    "  else: \n",
    "    print(\"Could not find video\")\n",
    "    \n",
    "\n",
    "def wrap_env_video(env):\n",
    "  env = Monitor(env, './video', force=True)\n",
    "  return env"
   ]
  },
  {
   "cell_type": "code",
   "execution_count": 5,
   "metadata": {},
   "outputs": [],
   "source": [
    "from fragile.learning.imitation_atari.network import ConvolutionalNeuralNetwork, ModelTrainer"
   ]
  },
  {
   "cell_type": "code",
   "execution_count": 6,
   "metadata": {},
   "outputs": [
    {
     "name": "stdout",
     "output_type": "stream",
     "text": [
      "WARNING:tensorflow:From /usr/local/lib/python3.7/dist-packages/tensorflow_core/python/compat/v2_compat.py:88: disable_resource_variables (from tensorflow.python.ops.variable_scope) is deprecated and will be removed in a future version.\n",
      "Instructions for updating:\n",
      "non-resource variables are not supported in the long term\n"
     ]
    }
   ],
   "source": [
    "import gym\n",
    "import argparse\n",
    "import numpy as np\n",
    "import atari_py\n",
    "from IPython.display import clear_output\n",
    "import time\n",
    "from plangym import AtariEnvironment\n",
    "\n",
    "from fragile.core import DiscreteEnv, DiscreteUniform, GaussianDt\n",
    "from fragile.core.tree import HistoryTree\n",
    "from fragile.core.swarm import Swarm\n",
    "from fragile.distributed import ParallelEnv\n",
    "\n",
    "import tensorflow.compat.v1 as tf\n",
    "tf.disable_v2_behavior()\n",
    "\n",
    "FRAMES_IN_OBSERVATION = 4\n",
    "FRAME_SIZE = 84\n",
    "INPUT_SHAPE = (FRAME_SIZE, FRAME_SIZE, FRAMES_IN_OBSERVATION)\n",
    "MEMORY_SIZE = 90000\n",
    "EXPLORE_MEMORY_STEPS = 2\n",
    "\n",
    "\n",
    "class FragileRunner:\n",
    "    def __init__(self, game_name):\n",
    "\n",
    "        self.env = AtariEnvironment(\n",
    "            name=game_name,\n",
    "            clone_seeds=True,\n",
    "            wrappers=[wrap],\n",
    "        )\n",
    "\n",
    "        self.game_name = game_name\n",
    "        self.env_callable = lambda: DiscreteEnv(env=self.env)\n",
    "        self.model_callable = lambda env: DiscreteUniform(env=self.env)\n",
    "        self.prune_tree = True\n",
    "        # A bigger number will increase the quality of the trajectories sampled.\n",
    "        self.n_walkers = 16\n",
    "        self.max_epochs = 64  # Increase to sample longer games.\n",
    "        self.reward_scale = 2  # Rewards are more important than diversity.\n",
    "        self.distance_scale = 1\n",
    "        self.minimize = False  # We want to get the maximum score possible.\n",
    "        self.swarm = swarm = Swarm(\n",
    "            model=self.model_callable,\n",
    "            env=self.env_callable,\n",
    "            tree=lambda: HistoryTree(names=[\"observs\", \"actions\"], prune=True),\n",
    "            n_walkers=self.n_walkers,\n",
    "            max_epochs=self.max_epochs,\n",
    "            prune_tree=self.prune_tree,\n",
    "            reward_scale=self.reward_scale,\n",
    "            distance_scale=self.distance_scale,\n",
    "            minimize=self.minimize,\n",
    "        )\n",
    "\n",
    "    def run(self):\n",
    "        print(\"Creating fractal replay memory...\")\n",
    "        for i in range(EXPLORE_MEMORY_STEPS):\n",
    "            _ = self.swarm.run()\n",
    "            print(\"Max. fractal cum_rewards:\", max(self.swarm.best_reward))\n",
    "        return self.memory\n",
    "\n",
    "\n"
   ]
  },
  {
   "cell_type": "code",
   "execution_count": 7,
   "metadata": {},
   "outputs": [
    {
     "name": "stdout",
     "output_type": "stream",
     "text": [
      "Testing Neural Network...\n",
      "Neural Network score: 10.0\n"
     ]
    },
    {
     "data": {
      "text/html": [
       "<video alt=\"test\" autoplay \n",
       "                loop controls style=\"height: 400px;\">\n",
       "                <source src=\"data:video/mp4;base64,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\" type=\"video/mp4\" />\n",
       "             </video>"
      ],
      "text/plain": [
       "<IPython.core.display.HTML object>"
      ]
     },
     "metadata": {},
     "output_type": "display_data"
    },
    {
     "name": "stdout",
     "output_type": "stream",
     "text": [
      "Training run: 2\n",
      "Creating fractal replay memory...\n"
     ]
    },
    {
     "data": {
      "application/vnd.jupyter.widget-view+json": {
       "model_id": "524e9101f2c040b1bb56249cb58739b1",
       "version_major": 2,
       "version_minor": 0
      },
      "text/plain": [
       "HBox(children=(FloatProgress(value=0.0, description='Swarm', max=64.0, style=ProgressStyle(description_width='…"
      ]
     },
     "metadata": {},
     "output_type": "display_data"
    },
    {
     "data": {
      "application/vnd.jupyter.widget-view+json": {
       "model_id": "f69b3b58ec0f410da4756f56c2dd147d",
       "version_major": 2,
       "version_minor": 0
      },
      "text/plain": [
       "HTML(value='')"
      ]
     },
     "metadata": {},
     "output_type": "display_data"
    },
    {
     "name": "stdout",
     "output_type": "stream",
     "text": [
      "\n",
      "Max. fractal cum_rewards: 185.0\n"
     ]
    },
    {
     "data": {
      "application/vnd.jupyter.widget-view+json": {
       "model_id": "8143f577787f401ab96e117bf5199023",
       "version_major": 2,
       "version_minor": 0
      },
      "text/plain": [
       "HBox(children=(FloatProgress(value=0.0, description='Swarm', max=64.0, style=ProgressStyle(description_width='…"
      ]
     },
     "metadata": {},
     "output_type": "display_data"
    },
    {
     "data": {
      "application/vnd.jupyter.widget-view+json": {
       "model_id": "f69b3b58ec0f410da4756f56c2dd147d",
       "version_major": 2,
       "version_minor": 0
      },
      "text/plain": [
       "HTML(value='')"
      ]
     },
     "metadata": {},
     "output_type": "display_data"
    },
    {
     "name": "stdout",
     "output_type": "stream",
     "text": [
      "\n",
      "Max. fractal cum_rewards: 140.0\n"
     ]
    },
    {
     "ename": "KeyboardInterrupt",
     "evalue": "",
     "output_type": "error",
     "traceback": [
      "\u001b[0;31m---------------------------------------------------------------------------\u001b[0m",
      "\u001b[0;31mKeyboardInterrupt\u001b[0m                         Traceback (most recent call last)",
      "\u001b[0;32m<ipython-input-7-052722713f85>\u001b[0m in \u001b[0;36m<module>\u001b[0;34m()\u001b[0m\n\u001b[1;32m     50\u001b[0m \u001b[0;34m\u001b[0m\u001b[0m\n\u001b[1;32m     51\u001b[0m \u001b[0;32mif\u001b[0m \u001b[0m__name__\u001b[0m \u001b[0;34m==\u001b[0m \u001b[0;34m\"__main__\"\u001b[0m\u001b[0;34m:\u001b[0m\u001b[0;34m\u001b[0m\u001b[0;34m\u001b[0m\u001b[0m\n\u001b[0;32m---> 52\u001b[0;31m     \u001b[0mFractalExplorationImitationLearning\u001b[0m\u001b[0;34m(\u001b[0m\u001b[0;34m)\u001b[0m\u001b[0;34m\u001b[0m\u001b[0;34m\u001b[0m\u001b[0m\n\u001b[0m",
      "\u001b[0;32m<ipython-input-7-052722713f85>\u001b[0m in \u001b[0;36m__init__\u001b[0;34m(self)\u001b[0m\n\u001b[1;32m     18\u001b[0m \u001b[0;34m\u001b[0m\u001b[0m\n\u001b[1;32m     19\u001b[0m         \u001b[0;31m# model training\u001b[0m\u001b[0;34m\u001b[0m\u001b[0;34m\u001b[0m\u001b[0;34m\u001b[0m\u001b[0m\n\u001b[0;32m---> 20\u001b[0;31m         \u001b[0mself\u001b[0m\u001b[0;34m.\u001b[0m\u001b[0m_main_loop\u001b[0m\u001b[0;34m(\u001b[0m\u001b[0menv_name\u001b[0m\u001b[0;34m,\u001b[0m \u001b[0mexplorer\u001b[0m\u001b[0;34m,\u001b[0m \u001b[0mgame_model\u001b[0m\u001b[0;34m,\u001b[0m \u001b[0mtotal_run_limit\u001b[0m\u001b[0;34m)\u001b[0m\u001b[0;34m\u001b[0m\u001b[0;34m\u001b[0m\u001b[0m\n\u001b[0m\u001b[1;32m     21\u001b[0m \u001b[0;34m\u001b[0m\u001b[0m\n\u001b[1;32m     22\u001b[0m     \u001b[0;32mdef\u001b[0m \u001b[0m_main_loop\u001b[0m\u001b[0;34m(\u001b[0m\u001b[0mself\u001b[0m\u001b[0;34m,\u001b[0m \u001b[0menv_name\u001b[0m\u001b[0;34m,\u001b[0m \u001b[0mexplorer\u001b[0m\u001b[0;34m,\u001b[0m \u001b[0mgame_model\u001b[0m\u001b[0;34m,\u001b[0m \u001b[0mtotal_run_limit\u001b[0m\u001b[0;34m)\u001b[0m\u001b[0;34m:\u001b[0m\u001b[0;34m\u001b[0m\u001b[0;34m\u001b[0m\u001b[0m\n",
      "\u001b[0;32m<ipython-input-7-052722713f85>\u001b[0m in \u001b[0;36m_main_loop\u001b[0;34m(self, env_name, explorer, game_model, total_run_limit)\u001b[0m\n\u001b[1;32m     30\u001b[0m \u001b[0;34m\u001b[0m\u001b[0m\n\u001b[1;32m     31\u001b[0m             \u001b[0;31m# Training a run\u001b[0m\u001b[0;34m\u001b[0m\u001b[0;34m\u001b[0m\u001b[0;34m\u001b[0m\u001b[0m\n\u001b[0;32m---> 32\u001b[0;31m             \u001b[0mgame_model\u001b[0m\u001b[0;34m.\u001b[0m\u001b[0mtrain\u001b[0m\u001b[0;34m(\u001b[0m\u001b[0mexplorer\u001b[0m\u001b[0;34m.\u001b[0m\u001b[0mswarm\u001b[0m\u001b[0;34m)\u001b[0m\u001b[0;34m\u001b[0m\u001b[0;34m\u001b[0m\u001b[0m\n\u001b[0m\u001b[1;32m     33\u001b[0m \u001b[0;34m\u001b[0m\u001b[0m\n\u001b[1;32m     34\u001b[0m             \u001b[0;31m# Testing model\u001b[0m\u001b[0;34m\u001b[0m\u001b[0;34m\u001b[0m\u001b[0;34m\u001b[0m\u001b[0m\n",
      "\u001b[0;32m/home/guillem/github/fragile/fragile/learning/imitation_atari/network.py\u001b[0m in \u001b[0;36mtrain\u001b[0;34m(self, swarm, batch_size, epochs, verbose)\u001b[0m\n\u001b[1;32m    103\u001b[0m                 \u001b[0mepochs\u001b[0m\u001b[0;34m=\u001b[0m\u001b[0mepochs\u001b[0m\u001b[0;34m,\u001b[0m\u001b[0;34m\u001b[0m\u001b[0;34m\u001b[0m\u001b[0m\n\u001b[1;32m    104\u001b[0m                 \u001b[0mbatch_size\u001b[0m\u001b[0;34m=\u001b[0m\u001b[0mbatch_size\u001b[0m\u001b[0;34m,\u001b[0m\u001b[0;34m\u001b[0m\u001b[0;34m\u001b[0m\u001b[0m\n\u001b[0;32m--> 105\u001b[0;31m                 \u001b[0mverbose\u001b[0m\u001b[0;34m=\u001b[0m\u001b[0mverbose\u001b[0m\u001b[0;34m,\u001b[0m\u001b[0;34m\u001b[0m\u001b[0;34m\u001b[0m\u001b[0m\n\u001b[0m\u001b[1;32m    106\u001b[0m             )\n",
      "\u001b[0;32m/usr/local/lib/python3.7/dist-packages/tensorflow_core/python/keras/engine/training.py\u001b[0m in \u001b[0;36mfit\u001b[0;34m(self, x, y, batch_size, epochs, verbose, callbacks, validation_split, validation_data, shuffle, class_weight, sample_weight, initial_epoch, steps_per_epoch, validation_steps, validation_freq, max_queue_size, workers, use_multiprocessing, **kwargs)\u001b[0m\n\u001b[1;32m    817\u001b[0m         \u001b[0mmax_queue_size\u001b[0m\u001b[0;34m=\u001b[0m\u001b[0mmax_queue_size\u001b[0m\u001b[0;34m,\u001b[0m\u001b[0;34m\u001b[0m\u001b[0;34m\u001b[0m\u001b[0m\n\u001b[1;32m    818\u001b[0m         \u001b[0mworkers\u001b[0m\u001b[0;34m=\u001b[0m\u001b[0mworkers\u001b[0m\u001b[0;34m,\u001b[0m\u001b[0;34m\u001b[0m\u001b[0;34m\u001b[0m\u001b[0m\n\u001b[0;32m--> 819\u001b[0;31m         use_multiprocessing=use_multiprocessing)\n\u001b[0m\u001b[1;32m    820\u001b[0m \u001b[0;34m\u001b[0m\u001b[0m\n\u001b[1;32m    821\u001b[0m   def evaluate(self,\n",
      "\u001b[0;32m/usr/local/lib/python3.7/dist-packages/tensorflow_core/python/keras/engine/training_arrays.py\u001b[0m in \u001b[0;36mfit\u001b[0;34m(self, model, x, y, batch_size, epochs, verbose, callbacks, validation_split, validation_data, shuffle, class_weight, sample_weight, initial_epoch, steps_per_epoch, validation_steps, validation_freq, **kwargs)\u001b[0m\n\u001b[1;32m    678\u001b[0m         \u001b[0mvalidation_steps\u001b[0m\u001b[0;34m=\u001b[0m\u001b[0mvalidation_steps\u001b[0m\u001b[0;34m,\u001b[0m\u001b[0;34m\u001b[0m\u001b[0;34m\u001b[0m\u001b[0m\n\u001b[1;32m    679\u001b[0m         \u001b[0mvalidation_freq\u001b[0m\u001b[0;34m=\u001b[0m\u001b[0mvalidation_freq\u001b[0m\u001b[0;34m,\u001b[0m\u001b[0;34m\u001b[0m\u001b[0;34m\u001b[0m\u001b[0m\n\u001b[0;32m--> 680\u001b[0;31m         steps_name='steps_per_epoch')\n\u001b[0m\u001b[1;32m    681\u001b[0m \u001b[0;34m\u001b[0m\u001b[0m\n\u001b[1;32m    682\u001b[0m   def evaluate(self,\n",
      "\u001b[0;32m/usr/local/lib/python3.7/dist-packages/tensorflow_core/python/keras/engine/training_arrays.py\u001b[0m in \u001b[0;36mmodel_iteration\u001b[0;34m(model, inputs, targets, sample_weights, batch_size, epochs, verbose, callbacks, val_inputs, val_targets, val_sample_weights, shuffle, initial_epoch, steps_per_epoch, validation_steps, validation_freq, mode, validation_in_fit, prepared_feed_values_from_dataset, steps_name, **kwargs)\u001b[0m\n\u001b[1;32m    396\u001b[0m \u001b[0;34m\u001b[0m\u001b[0m\n\u001b[1;32m    397\u001b[0m         \u001b[0;31m# Get outputs.\u001b[0m\u001b[0;34m\u001b[0m\u001b[0;34m\u001b[0m\u001b[0;34m\u001b[0m\u001b[0m\n\u001b[0;32m--> 398\u001b[0;31m         \u001b[0mbatch_outs\u001b[0m \u001b[0;34m=\u001b[0m \u001b[0mf\u001b[0m\u001b[0;34m(\u001b[0m\u001b[0mins_batch\u001b[0m\u001b[0;34m)\u001b[0m\u001b[0;34m\u001b[0m\u001b[0;34m\u001b[0m\u001b[0m\n\u001b[0m\u001b[1;32m    399\u001b[0m         \u001b[0;32mif\u001b[0m \u001b[0;32mnot\u001b[0m \u001b[0misinstance\u001b[0m\u001b[0;34m(\u001b[0m\u001b[0mbatch_outs\u001b[0m\u001b[0;34m,\u001b[0m \u001b[0mlist\u001b[0m\u001b[0;34m)\u001b[0m\u001b[0;34m:\u001b[0m\u001b[0;34m\u001b[0m\u001b[0;34m\u001b[0m\u001b[0m\n\u001b[1;32m    400\u001b[0m           \u001b[0mbatch_outs\u001b[0m \u001b[0;34m=\u001b[0m \u001b[0;34m[\u001b[0m\u001b[0mbatch_outs\u001b[0m\u001b[0;34m]\u001b[0m\u001b[0;34m\u001b[0m\u001b[0;34m\u001b[0m\u001b[0m\n",
      "\u001b[0;32m/usr/local/lib/python3.7/dist-packages/tensorflow_core/python/keras/backend.py\u001b[0m in \u001b[0;36m__call__\u001b[0;34m(self, inputs)\u001b[0m\n\u001b[1;32m   3565\u001b[0m \u001b[0;34m\u001b[0m\u001b[0m\n\u001b[1;32m   3566\u001b[0m     fetched = self._callable_fn(*array_vals,\n\u001b[0;32m-> 3567\u001b[0;31m                                 run_metadata=self.run_metadata)\n\u001b[0m\u001b[1;32m   3568\u001b[0m     \u001b[0mself\u001b[0m\u001b[0;34m.\u001b[0m\u001b[0m_call_fetch_callbacks\u001b[0m\u001b[0;34m(\u001b[0m\u001b[0mfetched\u001b[0m\u001b[0;34m[\u001b[0m\u001b[0;34m-\u001b[0m\u001b[0mlen\u001b[0m\u001b[0;34m(\u001b[0m\u001b[0mself\u001b[0m\u001b[0;34m.\u001b[0m\u001b[0m_fetches\u001b[0m\u001b[0;34m)\u001b[0m\u001b[0;34m:\u001b[0m\u001b[0;34m]\u001b[0m\u001b[0;34m)\u001b[0m\u001b[0;34m\u001b[0m\u001b[0;34m\u001b[0m\u001b[0m\n\u001b[1;32m   3569\u001b[0m     output_structure = nest.pack_sequence_as(\n",
      "\u001b[0;32m/usr/local/lib/python3.7/dist-packages/tensorflow_core/python/client/session.py\u001b[0m in \u001b[0;36m__call__\u001b[0;34m(self, *args, **kwargs)\u001b[0m\n\u001b[1;32m   1472\u001b[0m         ret = tf_session.TF_SessionRunCallable(self._session._session,\n\u001b[1;32m   1473\u001b[0m                                                \u001b[0mself\u001b[0m\u001b[0;34m.\u001b[0m\u001b[0m_handle\u001b[0m\u001b[0;34m,\u001b[0m \u001b[0margs\u001b[0m\u001b[0;34m,\u001b[0m\u001b[0;34m\u001b[0m\u001b[0;34m\u001b[0m\u001b[0m\n\u001b[0;32m-> 1474\u001b[0;31m                                                run_metadata_ptr)\n\u001b[0m\u001b[1;32m   1475\u001b[0m         \u001b[0;32mif\u001b[0m \u001b[0mrun_metadata\u001b[0m\u001b[0;34m:\u001b[0m\u001b[0;34m\u001b[0m\u001b[0;34m\u001b[0m\u001b[0m\n\u001b[1;32m   1476\u001b[0m           \u001b[0mproto_data\u001b[0m \u001b[0;34m=\u001b[0m \u001b[0mtf_session\u001b[0m\u001b[0;34m.\u001b[0m\u001b[0mTF_GetBuffer\u001b[0m\u001b[0;34m(\u001b[0m\u001b[0mrun_metadata_ptr\u001b[0m\u001b[0;34m)\u001b[0m\u001b[0;34m\u001b[0m\u001b[0;34m\u001b[0m\u001b[0m\n",
      "\u001b[0;31mKeyboardInterrupt\u001b[0m: "
     ]
    }
   ],
   "source": [
    "class FractalExplorationImitationLearning:\n",
    "\n",
    "    def __init__(self):\n",
    "        # We choose a game\n",
    "        game_name = \"SpaceInvaders\"\n",
    "\n",
    "        # Choose after how many runs we should stop\n",
    "        total_run_limit = 100\n",
    "        print(\"Selected game: \" + str(game_name))        \n",
    "        print(\"Total run limit: \" + str(total_run_limit))\n",
    "        \n",
    "        env_name = game_name + \"Deterministic-v4\"\n",
    "        env = wrap_env_video(wrap(gym.make(env_name)))\n",
    "        explorer = FragileRunner(env_name)\n",
    "        \n",
    "        # Game model\n",
    "        game_model = ModelTrainer(input_shape=INPUT_SHAPE, action_space=env.action_space.n)\n",
    "\n",
    "        # model training\n",
    "        self._main_loop(env_name, explorer, game_model, total_run_limit)\n",
    "\n",
    "    def _main_loop(self, env_name, explorer, game_model, total_run_limit):\n",
    "        run = 0\n",
    "        while run < total_run_limit:\n",
    "            run += 1            \n",
    "            print(\"Training run:\", run)                         \n",
    "\n",
    "            # We explore the game space state using fragile framework  \n",
    "            explorer.run()\n",
    "\n",
    "            # Training a run                       \n",
    "            game_model.train(explorer.swarm)\n",
    "            \n",
    "            # Testing model\n",
    "            clear_output()\n",
    "            print(\"Testing Neural Network...\")\n",
    "            env = wrap_env_video(wrap(gym.make(env_name)))\n",
    "            terminal = False\n",
    "            current_state = env.reset()\n",
    "            score = 0\n",
    "            while not terminal:                     \n",
    "                action = game_model.move(current_state)\n",
    "                next_state, reward, terminal, _ = env.step(action)\n",
    "                score += reward\n",
    "                current_state = next_state                \n",
    "            env.close()\n",
    "            \n",
    "            print(\"Neural Network score:\", score)\n",
    "            show_video()   \n",
    "\n",
    "if __name__ == \"__main__\":\n",
    "    FractalExplorationImitationLearning()"
   ]
  },
  {
   "cell_type": "code",
   "execution_count": null,
   "metadata": {},
   "outputs": [],
   "source": []
  }
 ],
 "metadata": {
  "kernelspec": {
   "display_name": "Python 3",
   "language": "python",
   "name": "python3"
  },
  "language_info": {
   "codemirror_mode": {
    "name": "ipython",
    "version": 3
   },
   "file_extension": ".py",
   "mimetype": "text/x-python",
   "name": "python",
   "nbconvert_exporter": "python",
   "pygments_lexer": "ipython3",
   "version": "3.7.5"
  }
 },
 "nbformat": 4,
 "nbformat_minor": 2
}
